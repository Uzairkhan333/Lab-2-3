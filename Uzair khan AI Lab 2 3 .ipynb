{
  "metadata": {
    "kernelspec": {
      "name": "python",
      "display_name": "Python (Pyodide)",
      "language": "python"
    },
    "language_info": {
      "codemirror_mode": {
        "name": "python",
        "version": 3
      },
      "file_extension": ".py",
      "mimetype": "text/x-python",
      "name": "python",
      "nbconvert_exporter": "python",
      "pygments_lexer": "ipython3",
      "version": "3.8"
    }
  },
  "nbformat_minor": 4,
  "nbformat": 4,
  "cells": [
    {
      "cell_type": "markdown",
      "source": "NAME : UZAIR KHAN\nSECTION: AL (BLUE).\nLAB 2 and 3 ",
      "metadata": {}
    },
    {
      "cell_type": "markdown",
      "source": "today LAB  about datatype , typecasting ,",
      "metadata": {}
    },
    {
      "cell_type": "code",
      "source": "#Task 1:\n# print dattypes of assigning data\nin1=6\nin2=4\nin3=5\nin4=7\nin5=10\n\nprint(type(in1))\nprint(type(in2))\nprint(type(in3))\nprint(type(in4))\nprint(type(in5))\n\n\n#Now for float\n\nf1=3.1\nf2=3.2\nf3=3.3\nf4=3.4\nf5=3.5\n\n\nprint(type(f1))\nprint(type(f2))\nprint(type(f3))\nprint(type(f4))\nprint(type(f5))\n\n#Now fo complex \nc1=3+4j\nc2=4+5j\nc3=5+6j\nc4=6+7j\nc5=7+8j\n\nprint(type(c1))\nprint(type(c2))\nprint(type(c3))\nprint(type(c4))\nprint(type(c5))\n\n\n",
      "metadata": {
        "trusted": true
      },
      "outputs": [
        {
          "name": "stdout",
          "text": "<class 'int'>\n<class 'int'>\n<class 'int'>\n<class 'int'>\n<class 'int'>\n<class 'float'>\n<class 'float'>\n<class 'float'>\n<class 'float'>\n<class 'float'>\n<class 'complex'>\n<class 'complex'>\n<class 'complex'>\n<class 'complex'>\n<class 'complex'>\n",
          "output_type": "stream"
        }
      ],
      "execution_count": 13
    },
    {
      "cell_type": "code",
      "source": "#Task 2:\n#for int to others\na=20\nb=30\nc=40\n\nx=float(a)\ny=complex(b)\nz=complex(c)\nprint(x,y,z)\n\n#Now for float to others\n\nf11=3.9\nf22=4.1\nf33=4.6\nx1=int(f11)\nx2=complex(f22)\nx3=int(f33)\nprint(x1,x2,x3)\n\n#now for complex to others\n\nc=4+3j\nc2=5+9j\nc3=1+4j\n\nx11=int(c)\nx22=float(s2)\nx33=int(c3)\nprint(x11,x22,x33)\n\n",
      "metadata": {
        "trusted": true
      },
      "outputs": [
        {
          "name": "stdout",
          "text": "20.0 (30+0j) (40+0j)\n3 (4.1+0j) 4\n",
          "output_type": "stream"
        }
      ],
      "execution_count": null
    },
    {
      "cell_type": "code",
      "source": "#Task 3:\n## Assigning Multiple Strings to a Single Variable in Python\nf=\"\"\"\nName=\"Uzair khan\"\nReg no =\"B22F1245AI081\"\nProgram=\"AI\"\n\"\"\"\nprint(f)",
      "metadata": {
        "trusted": true
      },
      "outputs": [
        {
          "name": "stdout",
          "text": "\nName=\"Uzair khan\"\nReg no =\"B22F1245AI081\"\nProgram=\"AI\"\n\n",
          "output_type": "stream"
        }
      ],
      "execution_count": 16
    },
    {
      "cell_type": "code",
      "source": "#Task 4\n#access last 3 letter form your country\ncountry=\"pakistan\"\nprint(country[5:8])",
      "metadata": {
        "trusted": true
      },
      "outputs": [
        {
          "name": "stdout",
          "text": "tan\n",
          "output_type": "stream"
        }
      ],
      "execution_count": 7
    },
    {
      "cell_type": "code",
      "source": "#Task 5\n#Write code and observe using len() function it count space or not\nstr=\"i am uzair khan i am from haelian\"\nlen(str)\n\n",
      "metadata": {
        "trusted": true
      },
      "outputs": [
        {
          "execution_count": 15,
          "output_type": "execute_result",
          "data": {
            "text/plain": "33"
          },
          "metadata": {}
        }
      ],
      "execution_count": 15
    },
    {
      "cell_type": "code",
      "source": "#Task 6\n#Write code to access the 2nd and 3rd character of your name using negative indexes.\nname=\"uzair khan\"\nprint(name[-7: -6]\n\n\n",
      "metadata": {
        "trusted": true
      },
      "outputs": [],
      "execution_count": null
    },
    {
      "cell_type": "code",
      "source": "#Task 7\n#Write python code in which you pass index number\n#to format() function and arguments must be 4 and same code without indexes.\n# Using indexed format function\nindex_format_str = \"The {0} arguments are: {1}, {2}, {3}, and {4}\"\n\n# Arguments to pass\narg_1 = \"first\"\narg_2 = \"second\"\narg_3 = \"third\"\narg_4 = \"fourth\"\n\n# Passing index numbers to format function\nformatted_str_indexed = index_format_str.format(4, arg_1, arg_2, arg_3, arg_4)\n\nprint(\"Indexed format:\", formatted_str_indexed)\n\n",
      "metadata": {
        "trusted": true
      },
      "outputs": [
        {
          "name": "stdout",
          "text": "Indexed format: The 4 arguments are: first, second, third, and fourth\n",
          "output_type": "stream"
        }
      ],
      "execution_count": 1
    },
    {
      "cell_type": "code",
      "source": "name=input(\"enter your name\")\nage=input(\"enter your age\")\nprint(name + \" age is \" + age)",
      "metadata": {
        "trusted": true
      },
      "outputs": [],
      "execution_count": null
    },
    {
      "cell_type": "code",
      "source": "",
      "metadata": {
        "trusted": true
      },
      "outputs": [],
      "execution_count": null
    },
    {
      "cell_type": "code",
      "source": "",
      "metadata": {
        "trusted": true
      },
      "outputs": [],
      "execution_count": null
    },
    {
      "cell_type": "code",
      "source": "",
      "metadata": {
        "trusted": true
      },
      "outputs": [],
      "execution_count": null
    },
    {
      "cell_type": "code",
      "source": "",
      "metadata": {
        "trusted": true
      },
      "outputs": [],
      "execution_count": null
    }
  ]
}